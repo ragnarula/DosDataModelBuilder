{
 "cells": [
  {
   "cell_type": "code",
   "execution_count": 8,
   "metadata": {},
   "outputs": [],
   "source": [
    "from scipy import stats\n",
    "import glob\n",
    "import pandas as pd\n",
    "import os"
   ]
  },
  {
   "cell_type": "code",
   "execution_count": 24,
   "metadata": {},
   "outputs": [
    {
     "data": {
      "text/plain": [
       "Ttest_relResult(statistic=9.7333723799216294, pvalue=4.1757516083297732e-16)"
      ]
     },
     "execution_count": 24,
     "metadata": {},
     "output_type": "execute_result"
    }
   ],
   "source": [
    "results_dir = '../data/intermediate/objective-2'\n",
    "rbf_all = 'objective-2-rbf_all.csv'\n",
    "linear_all = 'objective-2-linear-scaled_all.csv'\n",
    "\n",
    "rbf_data = pd.read_csv(os.path.join(results_dir, rbf_all))\n",
    "rbf_data = rbf_data[(rbf_data['svc__C']==256) & (rbf_data['svc__gamma']==0.03125)]['test_f1']\n",
    "\n",
    "linear_data = pd.read_csv(os.path.join(results_dir, linear_all))\n",
    "linear_data = linear_data[(linear_data['svc__C']==4096)]['test_f1']\n",
    "\n",
    "stats.ttest_rel(rbf_data, linear_data)"
   ]
  },
  {
   "cell_type": "code",
   "execution_count": null,
   "metadata": {
    "collapsed": true
   },
   "outputs": [],
   "source": [
    "files = "
   ]
  }
 ],
 "metadata": {
  "kernelspec": {
   "display_name": "ddos-fp",
   "language": "python",
   "name": "ddos-fp"
  },
  "language_info": {
   "codemirror_mode": {
    "name": "ipython",
    "version": 3
   },
   "file_extension": ".py",
   "mimetype": "text/x-python",
   "name": "python",
   "nbconvert_exporter": "python",
   "pygments_lexer": "ipython3",
   "version": "3.6.1"
  }
 },
 "nbformat": 4,
 "nbformat_minor": 2
}
