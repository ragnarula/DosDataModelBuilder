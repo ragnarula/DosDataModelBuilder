{
 "cells": [
  {
   "cell_type": "code",
   "execution_count": 14,
   "metadata": {},
   "outputs": [
    {
     "name": "stdout",
     "output_type": "stream",
     "text": [
      "Normal: 566, Flooding: 259, Slowloris: 197\n",
      "Normal: 566, Attack: 456\n"
     ]
    }
   ],
   "source": [
    "import pandas as pd\n",
    "data_path = '../csv/expanded_dataset_v1.csv'\n",
    "data = pd.read_csv(data_path)\n",
    "\n",
    "normal_count = data[data['Class']=='normal'].count()[0]\n",
    "flooding_count = data[data['Class']=='flooding'].count()[0]\n",
    "slowloris_count = data[data['Class']=='slowloris'].count()[0]\n",
    "print(\"Normal: {}, Flooding: {}, Slowloris: {}\".format(normal_count, flooding_count, slowloris_count))\n",
    "\n",
    "data = data.replace('flooding', 'attack')\n",
    "data = data.replace('slowloris', 'attack')\n",
    "normal_count = data[data['Class']=='normal'].count()[0]\n",
    "attack_count = data[data['Class']=='attack'].count()[0]\n",
    "print(\"Normal: {}, Attack: {}\".format(normal_count, attack_count))\n",
    "\n",
    "X = data.drop(['Class'], axis=1)\n",
    "Y = data['Class']"
   ]
  },
  {
   "cell_type": "code",
   "execution_count": 15,
   "metadata": {},
   "outputs": [
    {
     "data": {
      "text/plain": [
       "AvgRequestNo          8.503200e-17\n",
       "AvgTimeBetwReq        6.566149e-17\n",
       "AvgTimeBetwRespReq    4.094083e-18\n",
       "AvgDataRate           5.757517e-17\n",
       "AvgPacketNo          -9.364112e-17\n",
       "AvgPacketSize         2.950456e-16\n",
       "AvgConcurrentReq     -9.738894e-17\n",
       "MaxReq                1.803298e-17\n",
       "AvgDuration           2.591969e-16\n",
       "dtype: float64"
      ]
     },
     "execution_count": 15,
     "metadata": {},
     "output_type": "execute_result"
    }
   ],
   "source": [
    "%matplotlib inline \n",
    "from sklearn.preprocessing import scale\n",
    "from sklearn.preprocessing import minmax_scale\n",
    "norm = pd.DataFrame(scale(X), columns=list(X))\n",
    "scaled = pd.DataFrame(minmax_scale(norm, feature_range=(-1, 1)), columns=list(X))\n",
    "norm.mean()\n"
   ]
  },
  {
   "cell_type": "code",
   "execution_count": 17,
   "metadata": {},
   "outputs": [
    {
     "name": "stdout",
     "output_type": "stream",
     "text": [
      "Fitting 10 folds for each of 961 candidates, totalling 9610 fits\n"
     ]
    },
    {
     "name": "stderr",
     "output_type": "stream",
     "text": [
      "[Parallel(n_jobs=-1)]: Done  88 tasks      | elapsed:    1.1s\n",
      "[Parallel(n_jobs=-1)]: Done 688 tasks      | elapsed:    6.4s\n",
      "[Parallel(n_jobs=-1)]: Done 1688 tasks      | elapsed:   15.5s\n",
      "[Parallel(n_jobs=-1)]: Done 3088 tasks      | elapsed:   28.6s\n",
      "[Parallel(n_jobs=-1)]: Done 4888 tasks      | elapsed:   45.0s\n",
      "[Parallel(n_jobs=-1)]: Done 7088 tasks      | elapsed:  1.1min\n",
      "[Parallel(n_jobs=-1)]: Done 9265 tasks      | elapsed:  1.6min\n"
     ]
    },
    {
     "name": "stdout",
     "output_type": "stream",
     "text": [
      "0.827788649706\n"
     ]
    },
    {
     "name": "stderr",
     "output_type": "stream",
     "text": [
      "[Parallel(n_jobs=-1)]: Done 9610 out of 9610 | elapsed:  1.7min finished\n"
     ]
    }
   ],
   "source": [
    "from sklearn.svm import SVC\n",
    "from sklearn.model_selection import cross_val_predict\n",
    "from sklearn.metrics import accuracy_score\n",
    "from sklearn.model_selection import GridSearchCV\n",
    "\n",
    "svm = SVC(kernel='linear')\n",
    "parameters = [{\n",
    "    'C':[x ** y for x, y in zip([2] * 31, range(-15, 16, 1))], \n",
    "    'gamma': [x ** y for x, y in zip([2] * 31, range(-15, 16, 1))],\n",
    "    'kernel': ['rbf'],\n",
    "    'decision_function_shape': ['ovr']\n",
    "}]\n",
    "\n",
    "search = GridSearchCV(svm, parameters, cv=10, n_jobs=-1, verbose=1)\n",
    "search.fit(scaled, Y)\n",
    "accuracy = search.best_score_\n",
    "\n",
    "print(accuracy)"
   ]
  },
  {
   "cell_type": "code",
   "execution_count": null,
   "metadata": {
    "collapsed": true
   },
   "outputs": [],
   "source": []
  }
 ],
 "metadata": {
  "kernelspec": {
   "display_name": "python36",
   "language": "python",
   "name": "python36"
  },
  "language_info": {
   "codemirror_mode": {
    "name": "ipython",
    "version": 3
   },
   "file_extension": ".py",
   "mimetype": "text/x-python",
   "name": "python",
   "nbconvert_exporter": "python",
   "pygments_lexer": "ipython3",
   "version": "3.6.1"
  }
 },
 "nbformat": 4,
 "nbformat_minor": 2
}
