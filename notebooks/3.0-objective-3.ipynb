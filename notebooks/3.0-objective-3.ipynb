{
 "cells": [
  {
   "cell_type": "code",
   "execution_count": 1,
   "metadata": {
    "scrolled": true
   },
   "outputs": [
    {
     "name": "stdout",
     "output_type": "stream",
     "text": [
      "['/Users/rag/Desktop/results/experiment-3/experiment-3_all.csv', '/Users/rag/Desktop/results/experiment-3/experiment-3_flooding_slowloris.csv', '/Users/rag/Desktop/results/experiment-3/experiment-3_normal_flood.csv', '/Users/rag/Desktop/results/experiment-3/experiment-3_normal_slowloris.csv']\n"
     ]
    }
   ],
   "source": [
    "import glob\n",
    "results_dir = '/Users/rag/Desktop/results/experiment-3'\n",
    "all_csv_files = glob.glob(results_dir + \"/*.csv\")\n",
    "train_val_metrics = [\n",
    "        \"train_accuracy\",\n",
    "        \"train_f1\",\n",
    "        \"train_precision\",\n",
    "        \"train_recall\",\n",
    "        \"val_accuracy\",\n",
    "        \"val_f1\",\n",
    "        \"val_precision\",\n",
    "        \"val_recall\",\n",
    "    ]\n",
    "\n",
    "test_dummy_metrics = [\n",
    "    \"test_accuracy\",\n",
    "    \"test_f1\",\n",
    "    \"test_precision\",\n",
    "    \"test_recall\",\n",
    "    \"dummy_accuracy\",\n",
    "    \"dummy_f1\",\n",
    "    \"dummy_precision\",\n",
    "    \"dummy_recall\"\n",
    "]\n",
    "print(all_csv_files)"
   ]
  },
  {
   "cell_type": "code",
   "execution_count": null,
   "metadata": {
    "collapsed": true
   },
   "outputs": [],
   "source": [
    "import os\n",
    "import matplotlib.pyplot as plt\n",
    "for file in all_csv_files:\n",
    "\n",
    "    file_name = os.path.basename(file)\n",
    "    file_name = os.path.splitext(file_name)[0]\n",
    "    title, data_set_name = file_name.split('_', 1)\n",
    "    prefix = title\n",
    "    title = title.replace('-', ' ').title()\n",
    "    data_set_tile = data_set_name.replace('_', ' ').title()\n",
    "    data_set_tile = data_set_tile.replace(' ', ' vs ')\n",
    "    os.makedirs(os.path.join(results_dir, 'figs', data_set_name), exist_ok=True)\n",
    "\n",
    "\n",
    "\n",
    "    os.makedirs(os.path.join(results_dir, 'figs', data_set_name), exist_ok=True)\n",
    "    fig_file_name = '{}_{}_{}.png'.format(prefix, data_set_name, 'learning_curve')\n",
    "\n",
    "    print(fig_file_name)\n",
    "    df = pd.read_csv(file, index_col=None, header=0)\n",
    "\n",
    "    p = df.groupby('train_size').mean()\n",
    "\n",
    "    # print(p\n",
    "    ax = p.plot(kind='line', x=p.index.values, y=['train_recall', 'val_recall'])\n",
    "    plt.xticks(p.index, p.index.values, rotation=90)\n",
    "    ax.set_xticklabels(ax.get_xticklabels(), rotation=45)\n",
    "    ax.set_ylim(0.6,1)\n",
    "    plt.suptitle('{} Learning Curve - {}'.format(title, data_set_tile))\n",
    "\n",
    "    fig = ax.get_figure()\n",
    "    fig.tight_layout()\n",
    "    plt.subplots_adjust(top=0.9)\n",
    "    plt.show()\n",
    "    fig.savefig(os.path.join(results_dir, 'figs', data_set_name, fig_file_name))\n",
    "    plt.close()\n"
   ]
  }
 ],
 "metadata": {
  "kernelspec": {
   "display_name": "addos1",
   "language": "python",
   "name": "addos1"
  },
  "language_info": {
   "codemirror_mode": {
    "name": "ipython",
    "version": 3
   },
   "file_extension": ".py",
   "mimetype": "text/x-python",
   "name": "python",
   "nbconvert_exporter": "python",
   "pygments_lexer": "ipython3",
   "version": "3.6.1"
  }
 },
 "nbformat": 4,
 "nbformat_minor": 2
}
